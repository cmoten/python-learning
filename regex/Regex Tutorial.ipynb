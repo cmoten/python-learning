{
 "cells": [
  {
   "cell_type": "code",
   "execution_count": 1,
   "id": "82ccc412",
   "metadata": {},
   "outputs": [],
   "source": [
    "import re"
   ]
  },
  {
   "cell_type": "markdown",
   "id": "404bb47a",
   "metadata": {},
   "source": [
    "# Creating and Matching Regex Objects\n",
    "\n",
    "The code in this file is from the book \"Automat the Boring Stuff in Python\" by Al Sweigart. The steps to follow are:\n",
    "1. Import the regex module with `import re`.\n",
    "2. Create a Regex object with the `re.compile()` function using a raw string.\n",
    "3. Pass the string you want to search into the Regex object's `search()` method. This will return a match object.\n",
    "4. Call the Match object's `group()` method to return a string of the actual matched text."
   ]
  },
  {
   "cell_type": "code",
   "execution_count": 3,
   "id": "d50ee3ad",
   "metadata": {},
   "outputs": [
    {
     "name": "stdout",
     "output_type": "stream",
     "text": [
      "Phone number found: 415-555-4242\n"
     ]
    }
   ],
   "source": [
    "phoneNumRegex = re.compile(r'\\d\\d\\d-\\d\\d\\d-\\d\\d\\d\\d')\n",
    "matching_object = phoneNumRegex.search('My number is 415-555-4242.')\n",
    "print('Phone number found: {}'.format(matching_object.group()))"
   ]
  },
  {
   "cell_type": "markdown",
   "id": "4144c4ad",
   "metadata": {},
   "source": [
    "## Grouping with Parentheses"
   ]
  },
  {
   "cell_type": "code",
   "execution_count": 10,
   "id": "b05c5691",
   "metadata": {},
   "outputs": [
    {
     "name": "stdout",
     "output_type": "stream",
     "text": [
      "415\n",
      "555-4242\n",
      "415-555-4242\n",
      "('415', '555-4242')\n",
      "Area Code: 415\n",
      "Main Number: 555-4242\n"
     ]
    }
   ],
   "source": [
    "phoneNumRegex = re.compile(r'(\\d\\d\\d)-(\\d\\d\\d-\\d\\d\\d\\d)')\n",
    "matching_object = phoneNumRegex.search('My number is 415-555-4242.')\n",
    "print(matching_object.group(1))\n",
    "print(matching_object.group(2))\n",
    "print(matching_object.group(0))\n",
    "print(matching_object.groups())\n",
    "areaCode, mainNumber = matching_object.groups()\n",
    "print('Area Code: {}'.format(areaCode))\n",
    "print('Main Number: {}'.format(mainNumber))"
   ]
  },
  {
   "cell_type": "markdown",
   "id": "2d01de3d",
   "metadata": {},
   "source": [
    "## Matching Multiple Groups with the Pipe"
   ]
  },
  {
   "cell_type": "code",
   "execution_count": 14,
   "id": "2eee07c4",
   "metadata": {},
   "outputs": [
    {
     "name": "stdout",
     "output_type": "stream",
     "text": [
      "Batman\n",
      "Tina Fey\n"
     ]
    }
   ],
   "source": [
    "heroRegex = re.compile(r'Batman|Tina Fey')\n",
    "matching_object1 = heroRegex.search(\"Batman and Tina Fey.\")\n",
    "print(matching_object1.group())\n",
    "matching_object2 = heroRegex.search(\"Tina Fey and Batman\")\n",
    "print(matching_object2.group())"
   ]
  },
  {
   "cell_type": "code",
   "execution_count": 23,
   "id": "30e23ba6",
   "metadata": {},
   "outputs": [
    {
     "name": "stdout",
     "output_type": "stream",
     "text": [
      "Batman\n",
      "man\n"
     ]
    }
   ],
   "source": [
    "batRegex = re.compile(r'Bat(man|mobile|copter|bat)')\n",
    "matching_object = batRegex.search('The Adventures of Batman')\n",
    "print(matching_object.group())\n",
    "print(matching_object.group(1))"
   ]
  },
  {
   "cell_type": "markdown",
   "id": "2b903108",
   "metadata": {},
   "source": [
    "## Optional Matching with the Question Mark"
   ]
  },
  {
   "cell_type": "code",
   "execution_count": 24,
   "id": "553f5d9d",
   "metadata": {},
   "outputs": [
    {
     "name": "stdout",
     "output_type": "stream",
     "text": [
      "Batman\n",
      "Batwoman\n"
     ]
    }
   ],
   "source": [
    "batRegex = re.compile(r'Bat(wo)?man')\n",
    "matching_object1 = batRegex.search('The Adventures of Batman')\n",
    "print(matching_object1.group())\n",
    "\n",
    "matching_object2 = batRegex.search('The Adventures of Batwoman')\n",
    "print(matching_object2.group())"
   ]
  },
  {
   "cell_type": "code",
   "execution_count": 26,
   "id": "46c54bd8",
   "metadata": {},
   "outputs": [
    {
     "name": "stdout",
     "output_type": "stream",
     "text": [
      "415-555-4242\n",
      "555-4242\n"
     ]
    }
   ],
   "source": [
    "phoneRegex = re.compile(r'(\\d\\d\\d-)?\\d\\d\\d-\\d\\d\\d\\d')\n",
    "matching_object1 = phoneRegex.search('My number is 415-555-4242')\n",
    "print(matching_object1.group())\n",
    "\n",
    "matching_object2 = phoneRegex.search('My number is 555-4242')\n",
    "print(matching_object2.group())"
   ]
  },
  {
   "cell_type": "markdown",
   "id": "18fb6a30",
   "metadata": {},
   "source": [
    "## Matching Zero or More with the Star"
   ]
  },
  {
   "cell_type": "code",
   "execution_count": 27,
   "id": "b2f5bb6b",
   "metadata": {},
   "outputs": [
    {
     "name": "stdout",
     "output_type": "stream",
     "text": [
      "Batman\n",
      "Batwoman\n",
      "Batwowowoman\n"
     ]
    }
   ],
   "source": [
    "batRegex = re.compile(r'Bat(wo)*man')\n",
    "matching_object1 = batRegex.search('The Adventures of Batman')\n",
    "matching_object2 = batRegex.search('The Adventures of Batwoman')\n",
    "matching_object3 = batRegex.search('The Adventures of Batwowowoman')\n",
    "print(matching_object1.group())\n",
    "print(matching_object2.group())\n",
    "print(matching_object3.group())"
   ]
  },
  {
   "cell_type": "markdown",
   "id": "877fe60d",
   "metadata": {},
   "source": [
    "## Matching One or More with the Plus"
   ]
  },
  {
   "cell_type": "code",
   "execution_count": 28,
   "id": "612f5acd",
   "metadata": {},
   "outputs": [
    {
     "name": "stdout",
     "output_type": "stream",
     "text": [
      "True\n",
      "Batwoman\n",
      "Batwowowoman\n"
     ]
    }
   ],
   "source": [
    "batRegex = re.compile(r'Bat(wo)+man')\n",
    "matching_object1 = batRegex.search('The Adventures of Batman')\n",
    "matching_object2 = batRegex.search('The Adventures of Batwoman')\n",
    "matching_object3 = batRegex.search('The Adventures of Batwowowoman')\n",
    "print(matching_object1 == None)\n",
    "print(matching_object2.group())\n",
    "print(matching_object3.group())"
   ]
  },
  {
   "cell_type": "markdown",
   "id": "58be9120",
   "metadata": {},
   "source": [
    "## Matching Specific Repetitions with Curly Brackets"
   ]
  },
  {
   "cell_type": "code",
   "execution_count": 29,
   "id": "8eef406e",
   "metadata": {},
   "outputs": [
    {
     "name": "stdout",
     "output_type": "stream",
     "text": [
      "HaHaHa\n",
      "True\n"
     ]
    }
   ],
   "source": [
    "haRegex = re.compile(r'(Ha){3}')\n",
    "matching_object1 = haRegex.search(\"HaHaHa\")\n",
    "matching_object2 = haRegex.search(\"Ha\")\n",
    "print(matching_object1.group())\n",
    "print(matching_object2 == None)"
   ]
  },
  {
   "cell_type": "markdown",
   "id": "6ed5e9ed",
   "metadata": {},
   "source": [
    "## Greedy and Nongreedy Matching\n",
    "\n",
    "The question mark character can be used to find optional groups or nongreedy matches."
   ]
  },
  {
   "cell_type": "code",
   "execution_count": 30,
   "id": "5e032b1c",
   "metadata": {},
   "outputs": [
    {
     "name": "stdout",
     "output_type": "stream",
     "text": [
      "HaHaHaHaHa\n",
      "HaHaHa\n"
     ]
    }
   ],
   "source": [
    "greedyHaRegex = re.compile(r'(Ha){3,5}') #finds longest pattern\n",
    "nongreedyHaRegex = re.compile(r'(Ha){3,5}?') #finds shortest pattern\n",
    "matching_object1 = greedyHaRegex.search(\"HaHaHaHaHa\")\n",
    "matching_object2 = nongreedyHaRegex.search(\"HaHaHaHaHa\")\n",
    "print(matching_object1.group())\n",
    "print(matching_object2.group())"
   ]
  },
  {
   "cell_type": "markdown",
   "id": "8b37c0e4",
   "metadata": {},
   "source": [
    "## The `findall()` Method\n",
    "\n",
    "When called on a regex with no groups, `findall()` returns a list of matches. When called on a regex with groups, `findall()` returns a list of tuples of strings."
   ]
  },
  {
   "cell_type": "code",
   "execution_count": 37,
   "id": "0b4c745a",
   "metadata": {},
   "outputs": [
    {
     "name": "stdout",
     "output_type": "stream",
     "text": [
      "415-555-9999\n",
      "['415-555-9999', '212-555-0000']\n"
     ]
    }
   ],
   "source": [
    "phoneNumRegex = re.compile(r'\\d\\d\\d-\\d\\d\\d-\\d\\d\\d\\d') #no groups\n",
    "matching_object = phoneNumRegex.search('Cell: 415-555-9999 Work: 212-555-0000')\n",
    "print(matching_object.group())\n",
    "print(phoneNumRegex.findall('Cell: 415-555-9999 Work: 212-555-0000'))"
   ]
  },
  {
   "cell_type": "code",
   "execution_count": 38,
   "id": "02596455",
   "metadata": {},
   "outputs": [
    {
     "data": {
      "text/plain": [
       "[('415', '555', '9999'), ('212', '555', '0000')]"
      ]
     },
     "execution_count": 38,
     "metadata": {},
     "output_type": "execute_result"
    }
   ],
   "source": [
    "phoneNumRegex = re.compile(r'(\\d\\d\\d)-(\\d\\d\\d)-(\\d\\d\\d\\d)') #has groups\n",
    "phoneNumRegex.findall('Cell: 415-555-9999 Work: 212-555-0000')"
   ]
  }
 ],
 "metadata": {
  "kernelspec": {
   "display_name": "Python 3 (ipykernel)",
   "language": "python",
   "name": "python3"
  },
  "language_info": {
   "codemirror_mode": {
    "name": "ipython",
    "version": 3
   },
   "file_extension": ".py",
   "mimetype": "text/x-python",
   "name": "python",
   "nbconvert_exporter": "python",
   "pygments_lexer": "ipython3",
   "version": "3.10.6"
  }
 },
 "nbformat": 4,
 "nbformat_minor": 5
}
