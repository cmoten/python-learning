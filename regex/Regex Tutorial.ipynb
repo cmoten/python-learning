{
 "cells": [
  {
   "cell_type": "code",
   "execution_count": 1,
   "id": "82ccc412",
   "metadata": {},
   "outputs": [],
   "source": [
    "import re"
   ]
  },
  {
   "cell_type": "markdown",
   "id": "404bb47a",
   "metadata": {},
   "source": [
    "# Creating and Matching Regex Objects\n",
    "\n",
    "The code in this file is from the book \"Automat the Boring Stuff in Python\" by Al Sweigart. The steps to follow are:\n",
    "1. Import the regex module with `import re`.\n",
    "2. Create a Regex object with the `re.compile()` function using a raw string.\n",
    "3. Pass the string you want to search into the Regex object's `search()` method. This will return a match object.\n",
    "4. Call the Match object's `group()` method to return a string of the actual matched text."
   ]
  },
  {
   "cell_type": "code",
   "execution_count": 3,
   "id": "d50ee3ad",
   "metadata": {},
   "outputs": [
    {
     "name": "stdout",
     "output_type": "stream",
     "text": [
      "Phone number found: 415-555-4242\n"
     ]
    }
   ],
   "source": [
    "phoneNumRegex = re.compile(r'\\d\\d\\d-\\d\\d\\d-\\d\\d\\d\\d')\n",
    "matching_object = phoneNumRegex.search('My number is 415-555-4242.')\n",
    "print('Phone number found: {}'.format(matching_object.group()))"
   ]
  },
  {
   "cell_type": "markdown",
   "id": "4144c4ad",
   "metadata": {},
   "source": [
    "## Grouping with Parentheses"
   ]
  },
  {
   "cell_type": "code",
   "execution_count": 10,
   "id": "b05c5691",
   "metadata": {},
   "outputs": [
    {
     "name": "stdout",
     "output_type": "stream",
     "text": [
      "415\n",
      "555-4242\n",
      "415-555-4242\n",
      "('415', '555-4242')\n",
      "Area Code: 415\n",
      "Main Number: 555-4242\n"
     ]
    }
   ],
   "source": [
    "phoneNumRegex = re.compile(r'(\\d\\d\\d)-(\\d\\d\\d-\\d\\d\\d\\d)')\n",
    "matching_object = phoneNumRegex.search('My number is 415-555-4242.')\n",
    "print(matching_object.group(1))\n",
    "print(matching_object.group(2))\n",
    "print(matching_object.group(0))\n",
    "print(matching_object.groups())\n",
    "areaCode, mainNumber = matching_object.groups()\n",
    "print('Area Code: {}'.format(areaCode))\n",
    "print('Main Number: {}'.format(mainNumber))"
   ]
  },
  {
   "cell_type": "markdown",
   "id": "2d01de3d",
   "metadata": {},
   "source": [
    "## Matching Multiple Groups with the Pipe"
   ]
  },
  {
   "cell_type": "code",
   "execution_count": 14,
   "id": "2eee07c4",
   "metadata": {},
   "outputs": [
    {
     "name": "stdout",
     "output_type": "stream",
     "text": [
      "Batman\n",
      "Tina Fey\n"
     ]
    }
   ],
   "source": [
    "heroRegex = re.compile(r'Batman|Tina Fey')\n",
    "matching_object1 = heroRegex.search(\"Batman and Tina Fey.\")\n",
    "print(matching_object1.group())\n",
    "matching_object2 = heroRegex.search(\"Tina Fey and Batman\")\n",
    "print(matching_object2.group())"
   ]
  },
  {
   "cell_type": "code",
   "execution_count": 23,
   "id": "30e23ba6",
   "metadata": {},
   "outputs": [
    {
     "name": "stdout",
     "output_type": "stream",
     "text": [
      "Batman\n",
      "man\n"
     ]
    }
   ],
   "source": [
    "batRegex = re.compile(r'Bat(man|mobile|copter|bat)')\n",
    "matching_object = batRegex.search('The Adventures of Batman')\n",
    "print(matching_object.group())\n",
    "print(matching_object.group(1))"
   ]
  },
  {
   "cell_type": "markdown",
   "id": "2b903108",
   "metadata": {},
   "source": [
    "## Optional Matching with the Question Mark"
   ]
  },
  {
   "cell_type": "code",
   "execution_count": 24,
   "id": "553f5d9d",
   "metadata": {},
   "outputs": [
    {
     "name": "stdout",
     "output_type": "stream",
     "text": [
      "Batman\n",
      "Batwoman\n"
     ]
    }
   ],
   "source": [
    "batRegex = re.compile(r'Bat(wo)?man')\n",
    "matching_object1 = batRegex.search('The Adventures of Batman')\n",
    "print(matching_object1.group())\n",
    "\n",
    "matching_object2 = batRegex.search('The Adventures of Batwoman')\n",
    "print(matching_object2.group())"
   ]
  },
  {
   "cell_type": "code",
   "execution_count": 26,
   "id": "46c54bd8",
   "metadata": {},
   "outputs": [
    {
     "name": "stdout",
     "output_type": "stream",
     "text": [
      "415-555-4242\n",
      "555-4242\n"
     ]
    }
   ],
   "source": [
    "phoneRegex = re.compile(r'(\\d\\d\\d-)?\\d\\d\\d-\\d\\d\\d\\d')\n",
    "matching_object1 = phoneRegex.search('My number is 415-555-4242')\n",
    "print(matching_object1.group())\n",
    "\n",
    "matching_object2 = phoneRegex.search('My number is 555-4242')\n",
    "print(matching_object2.group())"
   ]
  },
  {
   "cell_type": "markdown",
   "id": "18fb6a30",
   "metadata": {},
   "source": [
    "## Matching Zero or More with the Star"
   ]
  },
  {
   "cell_type": "code",
   "execution_count": 27,
   "id": "b2f5bb6b",
   "metadata": {},
   "outputs": [
    {
     "name": "stdout",
     "output_type": "stream",
     "text": [
      "Batman\n",
      "Batwoman\n",
      "Batwowowoman\n"
     ]
    }
   ],
   "source": [
    "batRegex = re.compile(r'Bat(wo)*man')\n",
    "matching_object1 = batRegex.search('The Adventures of Batman')\n",
    "matching_object2 = batRegex.search('The Adventures of Batwoman')\n",
    "matching_object3 = batRegex.search('The Adventures of Batwowowoman')\n",
    "print(matching_object1.group())\n",
    "print(matching_object2.group())\n",
    "print(matching_object3.group())"
   ]
  },
  {
   "cell_type": "markdown",
   "id": "877fe60d",
   "metadata": {},
   "source": [
    "## Matching One or More with the Plus"
   ]
  },
  {
   "cell_type": "code",
   "execution_count": 28,
   "id": "612f5acd",
   "metadata": {},
   "outputs": [
    {
     "name": "stdout",
     "output_type": "stream",
     "text": [
      "True\n",
      "Batwoman\n",
      "Batwowowoman\n"
     ]
    }
   ],
   "source": [
    "batRegex = re.compile(r'Bat(wo)+man')\n",
    "matching_object1 = batRegex.search('The Adventures of Batman')\n",
    "matching_object2 = batRegex.search('The Adventures of Batwoman')\n",
    "matching_object3 = batRegex.search('The Adventures of Batwowowoman')\n",
    "print(matching_object1 == None)\n",
    "print(matching_object2.group())\n",
    "print(matching_object3.group())"
   ]
  },
  {
   "cell_type": "markdown",
   "id": "58be9120",
   "metadata": {},
   "source": [
    "## Matching Specific Repetitions with Curly Brackets"
   ]
  },
  {
   "cell_type": "code",
   "execution_count": 29,
   "id": "8eef406e",
   "metadata": {},
   "outputs": [
    {
     "name": "stdout",
     "output_type": "stream",
     "text": [
      "HaHaHa\n",
      "True\n"
     ]
    }
   ],
   "source": [
    "haRegex = re.compile(r'(Ha){3}')\n",
    "matching_object1 = haRegex.search(\"HaHaHa\")\n",
    "matching_object2 = haRegex.search(\"Ha\")\n",
    "print(matching_object1.group())\n",
    "print(matching_object2 == None)"
   ]
  },
  {
   "cell_type": "markdown",
   "id": "6ed5e9ed",
   "metadata": {},
   "source": [
    "## Greedy and Nongreedy Matching\n",
    "\n",
    "The question mark character can be used to find optional groups or nongreedy matches."
   ]
  },
  {
   "cell_type": "code",
   "execution_count": 30,
   "id": "5e032b1c",
   "metadata": {},
   "outputs": [
    {
     "name": "stdout",
     "output_type": "stream",
     "text": [
      "HaHaHaHaHa\n",
      "HaHaHa\n"
     ]
    }
   ],
   "source": [
    "greedyHaRegex = re.compile(r'(Ha){3,5}') #finds longest pattern\n",
    "nongreedyHaRegex = re.compile(r'(Ha){3,5}?') #finds shortest pattern\n",
    "matching_object1 = greedyHaRegex.search(\"HaHaHaHaHa\")\n",
    "matching_object2 = nongreedyHaRegex.search(\"HaHaHaHaHa\")\n",
    "print(matching_object1.group())\n",
    "print(matching_object2.group())"
   ]
  },
  {
   "cell_type": "markdown",
   "id": "8b37c0e4",
   "metadata": {},
   "source": [
    "## The `findall()` Method\n",
    "\n",
    "When called on a regex with no groups, `findall()` returns a list of matches. When called on a regex with groups, `findall()` returns a list of tuples of strings."
   ]
  },
  {
   "cell_type": "code",
   "execution_count": 37,
   "id": "0b4c745a",
   "metadata": {},
   "outputs": [
    {
     "name": "stdout",
     "output_type": "stream",
     "text": [
      "415-555-9999\n",
      "['415-555-9999', '212-555-0000']\n"
     ]
    }
   ],
   "source": [
    "phoneNumRegex = re.compile(r'\\d\\d\\d-\\d\\d\\d-\\d\\d\\d\\d') #no groups\n",
    "matching_object = phoneNumRegex.search('Cell: 415-555-9999 Work: 212-555-0000')\n",
    "print(matching_object.group())\n",
    "print(phoneNumRegex.findall('Cell: 415-555-9999 Work: 212-555-0000'))"
   ]
  },
  {
   "cell_type": "code",
   "execution_count": 38,
   "id": "02596455",
   "metadata": {},
   "outputs": [
    {
     "data": {
      "text/plain": [
       "[('415', '555', '9999'), ('212', '555', '0000')]"
      ]
     },
     "execution_count": 38,
     "metadata": {},
     "output_type": "execute_result"
    }
   ],
   "source": [
    "phoneNumRegex = re.compile(r'(\\d\\d\\d)-(\\d\\d\\d)-(\\d\\d\\d\\d)') #has groups\n",
    "phoneNumRegex.findall('Cell: 415-555-9999 Work: 212-555-0000')"
   ]
  },
  {
   "cell_type": "code",
   "execution_count": 2,
   "id": "f970826a",
   "metadata": {},
   "outputs": [
    {
     "data": {
      "text/html": [
       "<style>\n",
       "table {float:left}\n",
       "</style>\n"
      ],
      "text/plain": [
       "<IPython.core.display.HTML object>"
      ]
     },
     "metadata": {},
     "output_type": "display_data"
    }
   ],
   "source": [
    "%%html\n",
    "<style>\n",
    "table {float:left}\n",
    "</style>"
   ]
  },
  {
   "cell_type": "markdown",
   "id": "98d8fa2c",
   "metadata": {},
   "source": [
    "# Character Classes\n",
    "\n",
    "| Regex Symbol | Definition |\n",
    "| :--- | :--- |\n",
    "| \\d | any numerica digit from 0 to 9\n",
    "| \\D | any character that is not a numeric digit from 0 to 9\n",
    "| \\w | any letter, numeric digit, or the underscore character (match words)\n",
    "| \\W | any character that is not a letter, numeric digit, or the underscore\n",
    "| \\s | any space, tab, or newline character (match spaces)\n",
    "| \\S | any character that is not a space, tab, or newline\n",
    "| ? | matches zero or one of the preceeding group\n",
    "| * | matches zero or more of the preceeding group\n",
    "| + | matches one or more of the preceeding group\n",
    "| {n} | matches exactly $n$ of the preceeding group\n",
    "| {n,} | matches $n$ or more of the preceeding group\n",
    "| {,m} | matches 0 to $m$ of the preceeding group\n",
    "| {n,m} | matches at least $n$ and at most $m$ of the preceeding group\n",
    "| {n,m}? or *? or +? | performs a nongreedy match of the preceeding group\n",
    "| ^spam | means the string must begin with spam\n",
    "| spam$ | means the string must end with spam\n",
    "| . | matches any character, except newline characters\n",
    "| \\[abc\\] | matches any character between the brackets\n",
    "| \\[^abc\\] | matches any character that isn't between the brackets"
   ]
  },
  {
   "cell_type": "markdown",
   "id": "2cfc7418",
   "metadata": {},
   "source": [
    "## Making Custom Character Classes"
   ]
  },
  {
   "cell_type": "code",
   "execution_count": 3,
   "id": "9cc96702",
   "metadata": {},
   "outputs": [
    {
     "data": {
      "text/plain": [
       "['u', 'o', 'o', 'o', 'a', 'e', 'a', 'a', 'a', 'o']"
      ]
     },
     "execution_count": 3,
     "metadata": {},
     "output_type": "execute_result"
    }
   ],
   "source": [
    "vowelRegex = re.compile(r'[aeiouAEIOU]')\n",
    "vowelRegex.findall('But Robocop last year was a shock')"
   ]
  },
  {
   "cell_type": "code",
   "execution_count": 4,
   "id": "cfb79b2a",
   "metadata": {},
   "outputs": [
    {
     "data": {
      "text/plain": [
       "['B',\n",
       " 't',\n",
       " ' ',\n",
       " 'R',\n",
       " 'b',\n",
       " 'c',\n",
       " 'p',\n",
       " ' ',\n",
       " 'l',\n",
       " 's',\n",
       " 't',\n",
       " ' ',\n",
       " 'y',\n",
       " 'r',\n",
       " ' ',\n",
       " 'w',\n",
       " 's',\n",
       " ' ',\n",
       " ' ',\n",
       " 's',\n",
       " 'h',\n",
       " 'c',\n",
       " 'k']"
      ]
     },
     "execution_count": 4,
     "metadata": {},
     "output_type": "execute_result"
    }
   ],
   "source": [
    "consonantRegex = re.compile(r'[^aeiouAEIOU]')\n",
    "consonantRegex.findall('But Robocop last year was a shock')"
   ]
  },
  {
   "cell_type": "markdown",
   "id": "8e4fce9f",
   "metadata": {},
   "source": [
    "## The Caret and Dollar Sign"
   ]
  },
  {
   "cell_type": "code",
   "execution_count": 5,
   "id": "b2641f9d",
   "metadata": {},
   "outputs": [
    {
     "data": {
      "text/plain": [
       "<re.Match object; span=(0, 5), match='Hello'>"
      ]
     },
     "execution_count": 5,
     "metadata": {},
     "output_type": "execute_result"
    }
   ],
   "source": [
    "beginsWithHello = re.compile(r'^Hello')\n",
    "beginsWithHello.search('Hello world!')"
   ]
  },
  {
   "cell_type": "code",
   "execution_count": 6,
   "id": "7bb1ea9c",
   "metadata": {},
   "outputs": [
    {
     "data": {
      "text/plain": [
       "True"
      ]
     },
     "execution_count": 6,
     "metadata": {},
     "output_type": "execute_result"
    }
   ],
   "source": [
    "beginsWithHello.search('He said hello.') == None"
   ]
  },
  {
   "cell_type": "code",
   "execution_count": 11,
   "id": "27503946",
   "metadata": {},
   "outputs": [
    {
     "data": {
      "text/plain": [
       "<re.Match object; span=(15, 16), match='2'>"
      ]
     },
     "execution_count": 11,
     "metadata": {},
     "output_type": "execute_result"
    }
   ],
   "source": [
    "endsWithNumber = re.compile(r'\\d$')\n",
    "endsWithNumber.search('You number is 42')"
   ]
  },
  {
   "cell_type": "code",
   "execution_count": 12,
   "id": "2b13c1df",
   "metadata": {},
   "outputs": [
    {
     "data": {
      "text/plain": [
       "True"
      ]
     },
     "execution_count": 12,
     "metadata": {},
     "output_type": "execute_result"
    }
   ],
   "source": [
    "endsWithNumber.search('You number is forty two') == None"
   ]
  },
  {
   "cell_type": "code",
   "execution_count": 15,
   "id": "1a91c749",
   "metadata": {},
   "outputs": [
    {
     "data": {
      "text/plain": [
       "<re.Match object; span=(0, 10), match='1234567890'>"
      ]
     },
     "execution_count": 15,
     "metadata": {},
     "output_type": "execute_result"
    }
   ],
   "source": [
    "wholeStringIsNum = re.compile(r'^\\d+$')\n",
    "wholeStringIsNum.search('1234567890')"
   ]
  },
  {
   "cell_type": "code",
   "execution_count": 16,
   "id": "e3a46e59",
   "metadata": {},
   "outputs": [
    {
     "name": "stdout",
     "output_type": "stream",
     "text": [
      "True\n",
      "True\n"
     ]
    }
   ],
   "source": [
    "print(wholeStringIsNum.search('12345xyz67890') == None)\n",
    "print(wholeStringIsNum.search('12  34567890') == None)"
   ]
  },
  {
   "cell_type": "markdown",
   "id": "9117da7c",
   "metadata": {},
   "source": [
    "## The Wildcard Character"
   ]
  },
  {
   "cell_type": "code",
   "execution_count": 32,
   "id": "8f828d57",
   "metadata": {},
   "outputs": [
    {
     "data": {
      "text/plain": [
       "['cat', 'hat', 'sat', 'lat', 'mat']"
      ]
     },
     "execution_count": 32,
     "metadata": {},
     "output_type": "execute_result"
    }
   ],
   "source": [
    "atRegex = re.compile(r'.at')\n",
    "atRegex.findall('The cat in the hat sat on the flat mat.')"
   ]
  },
  {
   "cell_type": "markdown",
   "id": "e7965e91",
   "metadata": {},
   "source": [
    "## Matching Everything with Dot-Star"
   ]
  },
  {
   "cell_type": "code",
   "execution_count": 38,
   "id": "121baf72",
   "metadata": {},
   "outputs": [
    {
     "name": "stdout",
     "output_type": "stream",
     "text": [
      "('Cardy', 'Moten')\n",
      "Cardy\n",
      "Moten\n"
     ]
    }
   ],
   "source": [
    "nameRegex = re.compile(r'First Name: (.*) Last Name: (.*)')\n",
    "name_object = nameRegex.search('First Name: Cardy Last Name: Moten')\n",
    "print(name_object.groups())\n",
    "print(name_object.group(1))\n",
    "print(name_object.group(2))"
   ]
  },
  {
   "cell_type": "code",
   "execution_count": 39,
   "id": "ba428bad",
   "metadata": {},
   "outputs": [
    {
     "data": {
      "text/plain": [
       "'<To serve man>'"
      ]
     },
     "execution_count": 39,
     "metadata": {},
     "output_type": "execute_result"
    }
   ],
   "source": [
    "nongreedyRegex = re.compile(r'<.*?>')\n",
    "matching_object = nongreedyRegex.search('<To serve man> for dinner.>')\n",
    "matching_object.group()"
   ]
  },
  {
   "cell_type": "code",
   "execution_count": 40,
   "id": "60769872",
   "metadata": {},
   "outputs": [
    {
     "data": {
      "text/plain": [
       "'<To serve man> for dinner.>'"
      ]
     },
     "execution_count": 40,
     "metadata": {},
     "output_type": "execute_result"
    }
   ],
   "source": [
    "greedyRegex = re.compile(r'<.*>')\n",
    "matching_object = greedyRegex.search('<To serve man> for dinner.>')\n",
    "matching_object.group()"
   ]
  },
  {
   "cell_type": "markdown",
   "id": "6f252e37",
   "metadata": {},
   "source": [
    "## Matching Newlines With the Dot Character\n",
    "\n",
    "To make the dot character match everything including a newline, use the `re.DOTALL` argument in the `re.compile()` function.l"
   ]
  },
  {
   "cell_type": "code",
   "execution_count": 41,
   "id": "de4a6abd",
   "metadata": {},
   "outputs": [
    {
     "data": {
      "text/plain": [
       "'Serve the public trust.'"
      ]
     },
     "execution_count": 41,
     "metadata": {},
     "output_type": "execute_result"
    }
   ],
   "source": [
    "noNewlineRegex = re.compile(r'.*')\n",
    "noNewlineRegex.search('Serve the public trust.\\nProtect the innocent.\\nUphold the law.').group()"
   ]
  },
  {
   "cell_type": "code",
   "execution_count": 42,
   "id": "5c43848e",
   "metadata": {},
   "outputs": [
    {
     "data": {
      "text/plain": [
       "'Serve the public trust.\\nProtect the innocent.\\nUphold the law.'"
      ]
     },
     "execution_count": 42,
     "metadata": {},
     "output_type": "execute_result"
    }
   ],
   "source": [
    "newlineRegex = re.compile(r'.*', re.DOTALL)\n",
    "newlineRegex.search('Serve the public trust.\\nProtect the innocent.\\nUphold the law.').group()"
   ]
  },
  {
   "cell_type": "markdown",
   "id": "83871fb5",
   "metadata": {},
   "source": [
    "## Case-Insensitive Matching\n",
    "Use the `re.IGNORECASE` or `re.I` argument to `re.compile()` to make a match regardless of case."
   ]
  },
  {
   "cell_type": "code",
   "execution_count": 43,
   "id": "6f17a248",
   "metadata": {},
   "outputs": [
    {
     "data": {
      "text/plain": [
       "'RoboCop'"
      ]
     },
     "execution_count": 43,
     "metadata": {},
     "output_type": "execute_result"
    }
   ],
   "source": [
    "robocop = re.compile(r'robocop', re.I)\n",
    "robocop.search('RoboCop is part man, part machine, all cop.').group()"
   ]
  },
  {
   "cell_type": "code",
   "execution_count": 44,
   "id": "02ccd03b",
   "metadata": {},
   "outputs": [
    {
     "data": {
      "text/plain": [
       "'ROBOCOP'"
      ]
     },
     "execution_count": 44,
     "metadata": {},
     "output_type": "execute_result"
    }
   ],
   "source": [
    "robocop.search('ROBOCOP protects the innocent.').group()"
   ]
  },
  {
   "cell_type": "code",
   "execution_count": 45,
   "id": "845f1bea",
   "metadata": {},
   "outputs": [
    {
     "data": {
      "text/plain": [
       "'robocop'"
      ]
     },
     "execution_count": 45,
     "metadata": {},
     "output_type": "execute_result"
    }
   ],
   "source": [
    "robocop.search(\"What's up with all this talk about robocop?\").group()"
   ]
  },
  {
   "cell_type": "markdown",
   "id": "1497e669",
   "metadata": {},
   "source": [
    "## Substituting String with the `sub()` Method"
   ]
  },
  {
   "cell_type": "code",
   "execution_count": 46,
   "id": "696901f8",
   "metadata": {},
   "outputs": [
    {
     "data": {
      "text/plain": [
       "'CENSORED gave the secret documents to CENSORED.'"
      ]
     },
     "execution_count": 46,
     "metadata": {},
     "output_type": "execute_result"
    }
   ],
   "source": [
    "namesRegex = re.compile(r'Agent \\w+')\n",
    "namesRegex.sub('CENSORED', 'Agent Alice gave the secret documents to Agent Bob.')"
   ]
  },
  {
   "cell_type": "code",
   "execution_count": 51,
   "id": "b15517bd",
   "metadata": {},
   "outputs": [
    {
     "data": {
      "text/plain": [
       "'A**** told C**** that E**** knew B**** was a double agent.'"
      ]
     },
     "execution_count": 51,
     "metadata": {},
     "output_type": "execute_result"
    }
   ],
   "source": [
    "agentNamesRegex = re.compile(r'Agent (\\w)\\w*')\n",
    "agentNamesRegex.sub(r'\\1****', 'Agent Alice told Agent Carol that Agent Eve knew Agent Bob was a double agent.')"
   ]
  }
 ],
 "metadata": {
  "kernelspec": {
   "display_name": "Python 3 (ipykernel)",
   "language": "python",
   "name": "python3"
  },
  "language_info": {
   "codemirror_mode": {
    "name": "ipython",
    "version": 3
   },
   "file_extension": ".py",
   "mimetype": "text/x-python",
   "name": "python",
   "nbconvert_exporter": "python",
   "pygments_lexer": "ipython3",
   "version": "3.10.6"
  }
 },
 "nbformat": 4,
 "nbformat_minor": 5
}
